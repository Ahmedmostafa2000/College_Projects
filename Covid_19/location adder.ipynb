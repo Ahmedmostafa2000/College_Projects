{
 "cells": [
  {
   "cell_type": "code",
   "execution_count": 1,
   "metadata": {},
   "outputs": [],
   "source": [
    "import pandas as pd"
   ]
  },
  {
   "cell_type": "code",
   "execution_count": 84,
   "metadata": {},
   "outputs": [],
   "source": [
    "data = pd.read_csv(\"China_20032020.csv\",parse_dates =[\"Date\"])"
   ]
  },
  {
   "cell_type": "code",
   "execution_count": 86,
   "metadata": {},
   "outputs": [],
   "source": [
    "data = data.set_index(\"Date\",\"Province/State\")"
   ]
  },
  {
   "cell_type": "code",
   "execution_count": 87,
   "metadata": {},
   "outputs": [],
   "source": [
    "data.to_csv(\"China_try.csv\")"
   ]
  },
  {
   "cell_type": "code",
   "execution_count": 85,
   "metadata": {},
   "outputs": [
    {
     "data": {
      "text/html": [
       "<div>\n",
       "<style scoped>\n",
       "    .dataframe tbody tr th:only-of-type {\n",
       "        vertical-align: middle;\n",
       "    }\n",
       "\n",
       "    .dataframe tbody tr th {\n",
       "        vertical-align: top;\n",
       "    }\n",
       "\n",
       "    .dataframe thead th {\n",
       "        text-align: right;\n",
       "    }\n",
       "</style>\n",
       "<table border=\"1\" class=\"dataframe\">\n",
       "  <thead>\n",
       "    <tr style=\"text-align: right;\">\n",
       "      <th></th>\n",
       "      <th>Date</th>\n",
       "      <th>Confirmed</th>\n",
       "      <th>Deaths</th>\n",
       "      <th>Recovered</th>\n",
       "      <th>Province/State</th>\n",
       "    </tr>\n",
       "  </thead>\n",
       "  <tbody>\n",
       "    <tr>\n",
       "      <th>0</th>\n",
       "      <td>2020-01-22 17:00:00</td>\n",
       "      <td>1.0</td>\n",
       "      <td>0.0</td>\n",
       "      <td>0.0</td>\n",
       "      <td>Anhui</td>\n",
       "    </tr>\n",
       "    <tr>\n",
       "      <th>1</th>\n",
       "      <td>2020-01-22 17:00:00</td>\n",
       "      <td>14.0</td>\n",
       "      <td>0.0</td>\n",
       "      <td>0.0</td>\n",
       "      <td>Beijing</td>\n",
       "    </tr>\n",
       "    <tr>\n",
       "      <th>2</th>\n",
       "      <td>2020-01-22 17:00:00</td>\n",
       "      <td>6.0</td>\n",
       "      <td>0.0</td>\n",
       "      <td>0.0</td>\n",
       "      <td>Chongqing</td>\n",
       "    </tr>\n",
       "    <tr>\n",
       "      <th>3</th>\n",
       "      <td>2020-01-22 17:00:00</td>\n",
       "      <td>1.0</td>\n",
       "      <td>0.0</td>\n",
       "      <td>0.0</td>\n",
       "      <td>Fujian</td>\n",
       "    </tr>\n",
       "    <tr>\n",
       "      <th>4</th>\n",
       "      <td>2020-01-22 17:00:00</td>\n",
       "      <td>0.0</td>\n",
       "      <td>0.0</td>\n",
       "      <td>0.0</td>\n",
       "      <td>Gansu</td>\n",
       "    </tr>\n",
       "  </tbody>\n",
       "</table>\n",
       "</div>"
      ],
      "text/plain": [
       "                 Date  Confirmed  Deaths  Recovered Province/State\n",
       "0 2020-01-22 17:00:00        1.0     0.0        0.0          Anhui\n",
       "1 2020-01-22 17:00:00       14.0     0.0        0.0        Beijing\n",
       "2 2020-01-22 17:00:00        6.0     0.0        0.0      Chongqing\n",
       "3 2020-01-22 17:00:00        1.0     0.0        0.0         Fujian\n",
       "4 2020-01-22 17:00:00        0.0     0.0        0.0          Gansu"
      ]
     },
     "execution_count": 85,
     "metadata": {},
     "output_type": "execute_result"
    }
   ],
   "source": [
    "data.head()"
   ]
  },
  {
   "cell_type": "code",
   "execution_count": 50,
   "metadata": {},
   "outputs": [
    {
     "data": {
      "text/plain": [
       "DatetimeIndex(['2020-01-23 17:00:00', '2020-01-25 17:00:00',\n",
       "               '2020-01-26 16:00:00', '2020-01-27 23:59:00',\n",
       "               '2020-01-28 23:00:00', '2020-01-29 19:30:00',\n",
       "               '2020-01-30 16:00:00', '2020-01-31 23:59:00',\n",
       "               '2020-02-01 18:12:00', '2020-02-01 18:12:49',\n",
       "               '2020-02-02 22:33:07', '2020-02-04 16:53:03',\n",
       "               '2020-02-06 03:13:22', '2020-02-06 02:53:03',\n",
       "               '2020-02-07 01:03:02', '2020-02-09 19:33:02',\n",
       "               '2020-02-13 17:53:03', '2020-02-17 08:13:09',\n",
       "               '2020-02-21 05:43:02', '2020-02-21 23:03:13',\n",
       "               '2020-02-22 17:03:05', '2020-02-27 03:33:06',\n",
       "               '2020-02-29 02:03:10', '2020-02-29 23:13:06',\n",
       "               '2020-03-01 23:33:03', '2020-03-01 02:43:03',\n",
       "               '2020-03-02 00:53:03', '2020-03-02 20:53:02',\n",
       "               '2020-03-03 15:13:26', '2020-03-03 15:23:03',\n",
       "               '2020-03-04 20:43:03', '2020-03-04 12:43:03',\n",
       "               '2020-03-04 21:03:07', '2020-03-04 19:43:02',\n",
       "               '2020-03-05 17:33:06', '2020-03-05 18:33:03',\n",
       "               '2020-03-05 17:13:35', '2020-03-06 04:53:02',\n",
       "               '2020-03-06 04:23:08', '2020-03-06 04:33:03',\n",
       "               '2020-03-07 02:03:30', '2020-03-08 05:13:07',\n",
       "               '2020-03-08 05:43:04', '2020-03-09 18:53:13',\n",
       "               '2020-03-09 18:33:03', '2020-03-10 14:13:14',\n",
       "               '2020-03-10 13:53:06', '2020-03-10 14:33:13',\n",
       "               '2020-03-11 18:52:04', '2020-03-11 20:00:00',\n",
       "               '2020-03-14 13:33:04', '2020-03-14 01:53:03',\n",
       "               '2020-03-14 02:33:04', '2020-03-15 18:20:19',\n",
       "               '2020-03-16 14:38:46', '2020-03-16 14:38:45',\n",
       "               '2020-03-17 12:33:07', '2020-03-17 12:53:09',\n",
       "               '2020-03-18 12:13:09', '2020-03-18 11:53:04',\n",
       "               '2020-03-18 12:13:10', '2020-03-19 11:13:54'],\n",
       "              dtype='datetime64[ns]', name='Last Update', freq=None)"
      ]
     },
     "execution_count": 50,
     "metadata": {},
     "output_type": "execute_result"
    }
   ],
   "source": [
    "data.index.unique()"
   ]
  },
  {
   "cell_type": "code",
   "execution_count": 52,
   "metadata": {},
   "outputs": [],
   "source": [
    "data.to_csv(\"aust_date_added.csv\")"
   ]
  },
  {
   "cell_type": "code",
   "execution_count": 72,
   "metadata": {},
   "outputs": [],
   "source": [
    "import os\n",
    "os.chdir(\"D:/For Rowida/data\")"
   ]
  },
  {
   "cell_type": "code",
   "execution_count": null,
   "metadata": {},
   "outputs": [],
   "source": []
  }
 ],
 "metadata": {
  "kernelspec": {
   "display_name": "Python 3",
   "language": "python",
   "name": "python3"
  },
  "language_info": {
   "codemirror_mode": {
    "name": "ipython",
    "version": 3
   },
   "file_extension": ".py",
   "mimetype": "text/x-python",
   "name": "python",
   "nbconvert_exporter": "python",
   "pygments_lexer": "ipython3",
   "version": "3.6.1"
  }
 },
 "nbformat": 4,
 "nbformat_minor": 2
}
